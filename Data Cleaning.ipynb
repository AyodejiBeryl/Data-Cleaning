{
 "cells": [
  {
   "cell_type": "code",
   "execution_count": 5,
   "id": "81ce3390",
   "metadata": {},
   "outputs": [],
   "source": [
    "import pandas as pd\n",
    "import numpy as np\n",
    "\n"
   ]
  },
  {
   "cell_type": "code",
   "execution_count": 6,
   "id": "a96ab303",
   "metadata": {},
   "outputs": [],
   "source": [
    "import csv"
   ]
  },
  {
   "cell_type": "code",
   "execution_count": 8,
   "id": "9fb73992",
   "metadata": {},
   "outputs": [
    {
     "data": {
      "text/html": [
       "<div>\n",
       "<style scoped>\n",
       "    .dataframe tbody tr th:only-of-type {\n",
       "        vertical-align: middle;\n",
       "    }\n",
       "\n",
       "    .dataframe tbody tr th {\n",
       "        vertical-align: top;\n",
       "    }\n",
       "\n",
       "    .dataframe thead th {\n",
       "        text-align: right;\n",
       "    }\n",
       "</style>\n",
       "<table border=\"1\" class=\"dataframe\">\n",
       "  <thead>\n",
       "    <tr style=\"text-align: right;\">\n",
       "      <th></th>\n",
       "      <th>Week</th>\n",
       "      <th>Mobile Indicator Name</th>\n",
       "      <th>Platform Type Name</th>\n",
       "      <th>Super Region</th>\n",
       "      <th>Country Name</th>\n",
       "      <th>Booking Window Group</th>\n",
       "      <th>Property Country</th>\n",
       "      <th>Net Gross Booking Value USD</th>\n",
       "      <th>Net Orders</th>\n",
       "      <th>Unnamed: 9</th>\n",
       "      <th>Unnamed: 10</th>\n",
       "    </tr>\n",
       "  </thead>\n",
       "  <tbody>\n",
       "    <tr>\n",
       "      <th>0</th>\n",
       "      <td>2016-W45</td>\n",
       "      <td>Desktop</td>\n",
       "      <td>Desktop</td>\n",
       "      <td>APAC</td>\n",
       "      <td>South Korea</td>\n",
       "      <td>8-14 days</td>\n",
       "      <td>Algeria</td>\n",
       "      <td>$-608</td>\n",
       "      <td>-3</td>\n",
       "      <td>NaN</td>\n",
       "      <td>NaN</td>\n",
       "    </tr>\n",
       "    <tr>\n",
       "      <th>1</th>\n",
       "      <td>2016-W45</td>\n",
       "      <td>Desktop</td>\n",
       "      <td>Desktop</td>\n",
       "      <td>APAC</td>\n",
       "      <td>South Korea</td>\n",
       "      <td>+90 days</td>\n",
       "      <td>Andorra</td>\n",
       "      <td>$-512</td>\n",
       "      <td>-2</td>\n",
       "      <td>NaN</td>\n",
       "      <td>NaN</td>\n",
       "    </tr>\n",
       "    <tr>\n",
       "      <th>2</th>\n",
       "      <td>2016-W45</td>\n",
       "      <td>Desktop</td>\n",
       "      <td>Desktop</td>\n",
       "      <td>APAC</td>\n",
       "      <td>South Korea</td>\n",
       "      <td>46-60 days</td>\n",
       "      <td>Andorra</td>\n",
       "      <td>$103</td>\n",
       "      <td>1</td>\n",
       "      <td>NaN</td>\n",
       "      <td>NaN</td>\n",
       "    </tr>\n",
       "    <tr>\n",
       "      <th>3</th>\n",
       "      <td>2016-W45</td>\n",
       "      <td>Desktop</td>\n",
       "      <td>Desktop</td>\n",
       "      <td>APAC</td>\n",
       "      <td>Australia</td>\n",
       "      <td>31-45 days</td>\n",
       "      <td>Argentina</td>\n",
       "      <td>$396</td>\n",
       "      <td>1</td>\n",
       "      <td>NaN</td>\n",
       "      <td>NaN</td>\n",
       "    </tr>\n",
       "    <tr>\n",
       "      <th>4</th>\n",
       "      <td>2016-W45</td>\n",
       "      <td>Desktop</td>\n",
       "      <td>Desktop</td>\n",
       "      <td>APAC</td>\n",
       "      <td>Australia</td>\n",
       "      <td>15-30 days</td>\n",
       "      <td>Argentina</td>\n",
       "      <td>$373</td>\n",
       "      <td>1</td>\n",
       "      <td>NaN</td>\n",
       "      <td>NaN</td>\n",
       "    </tr>\n",
       "  </tbody>\n",
       "</table>\n",
       "</div>"
      ],
      "text/plain": [
       "       Week Mobile Indicator Name Platform Type Name Super Region  \\\n",
       "0  2016-W45               Desktop            Desktop         APAC   \n",
       "1  2016-W45               Desktop            Desktop         APAC   \n",
       "2  2016-W45               Desktop            Desktop         APAC   \n",
       "3  2016-W45               Desktop            Desktop         APAC   \n",
       "4  2016-W45               Desktop            Desktop         APAC   \n",
       "\n",
       "  Country Name Booking Window Group Property Country  \\\n",
       "0  South Korea            8-14 days          Algeria   \n",
       "1  South Korea             +90 days          Andorra   \n",
       "2  South Korea           46-60 days          Andorra   \n",
       "3    Australia           31-45 days        Argentina   \n",
       "4    Australia           15-30 days        Argentina   \n",
       "\n",
       "   Net Gross Booking Value USD   Net Orders  Unnamed: 9  Unnamed: 10  \n",
       "0                        $-608           -3         NaN          NaN  \n",
       "1                        $-512           -2         NaN          NaN  \n",
       "2                         $103            1         NaN          NaN  \n",
       "3                         $396            1         NaN          NaN  \n",
       "4                         $373            1         NaN          NaN  "
      ]
     },
     "execution_count": 8,
     "metadata": {},
     "output_type": "execute_result"
    }
   ],
   "source": [
    "data = r\"C:\\Users\\ayode\\Dataset.csv\"\n",
    "data = pd.read_csv(data)\n",
    "data.head()\n"
   ]
  },
  {
   "cell_type": "code",
   "execution_count": 9,
   "id": "cd9b2c3e",
   "metadata": {},
   "outputs": [
    {
     "data": {
      "text/plain": [
       "Week                                 0\n",
       "Mobile Indicator Name                0\n",
       "Platform Type Name                   0\n",
       "Super Region                     20265\n",
       "Country Name                         0\n",
       "Booking Window Group                 0\n",
       "Property Country                     0\n",
       " Net Gross Booking Value USD         0\n",
       "Net Orders                           0\n",
       "Unnamed: 9                       73688\n",
       "Unnamed: 10                      73688\n",
       "dtype: int64"
      ]
     },
     "execution_count": 9,
     "metadata": {},
     "output_type": "execute_result"
    }
   ],
   "source": [
    "#checking for null data \n",
    "data.isnull().sum()"
   ]
  },
  {
   "cell_type": "code",
   "execution_count": 11,
   "id": "ff1887bb",
   "metadata": {},
   "outputs": [
    {
     "name": "stdout",
     "output_type": "stream",
     "text": [
      "there are 0 duplicated rows in the dataframe.\n"
     ]
    }
   ],
   "source": [
    "#Checking for duplicates\n",
    "dupRows = data.duplicated().sum()\n",
    "print(\"there are \" + str(dupRows) + \" duplicated rows in the dataframe.\")"
   ]
  },
  {
   "cell_type": "code",
   "execution_count": null,
   "id": "6d1aaf50",
   "metadata": {},
   "outputs": [],
   "source": []
  }
 ],
 "metadata": {
  "kernelspec": {
   "display_name": "Python 3 (ipykernel)",
   "language": "python",
   "name": "python3"
  },
  "language_info": {
   "codemirror_mode": {
    "name": "ipython",
    "version": 3
   },
   "file_extension": ".py",
   "mimetype": "text/x-python",
   "name": "python",
   "nbconvert_exporter": "python",
   "pygments_lexer": "ipython3",
   "version": "3.9.12"
  }
 },
 "nbformat": 4,
 "nbformat_minor": 5
}
